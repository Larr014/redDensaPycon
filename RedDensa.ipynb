{
  "nbformat": 4,
  "nbformat_minor": 0,
  "metadata": {
    "colab": {
      "provenance": [],
      "toc_visible": true
    },
    "kernelspec": {
      "name": "python3",
      "display_name": "Python 3"
    },
    "language_info": {
      "name": "python"
    }
  },
  "cells": [
    {
      "cell_type": "code",
      "source": [
        "import pandas as pd"
      ],
      "metadata": {
        "id": "AnYobPDSLPNf"
      },
      "execution_count": null,
      "outputs": []
    },
    {
      "cell_type": "markdown",
      "source": [
        "# Obtener Dataset"
      ],
      "metadata": {
        "id": "xKYwOZKCLyQI"
      }
    },
    {
      "cell_type": "code",
      "execution_count": null,
      "metadata": {
        "id": "qc4ialpzLMt1"
      },
      "outputs": [],
      "source": [
        "url = 'https://larr.cl/larr.cl/dataset/FakeDes.xlsx'\n",
        "df1 = pd.read_excel(url)"
      ]
    },
    {
      "cell_type": "markdown",
      "source": [
        "# Explorar el Dataset"
      ],
      "metadata": {
        "id": "yPP4DH5qSXy_"
      }
    },
    {
      "cell_type": "markdown",
      "source": [
        "Mostramos el conjunto de datos"
      ],
      "metadata": {
        "id": "Cv5rzJVlL2dw"
      }
    },
    {
      "cell_type": "code",
      "source": [
        "df1"
      ],
      "metadata": {
        "id": "EIPpdDR_LSRg"
      },
      "execution_count": null,
      "outputs": []
    },
    {
      "cell_type": "markdown",
      "source": [
        "Revisar un registro"
      ],
      "metadata": {
        "id": "SP6uhP2_SdKI"
      }
    },
    {
      "cell_type": "code",
      "source": [
        "df1.iloc[0]"
      ],
      "metadata": {
        "id": "cqhFf2vDRMan"
      },
      "execution_count": null,
      "outputs": []
    },
    {
      "cell_type": "code",
      "source": [
        "df1[0:1]"
      ],
      "metadata": {
        "id": "nIyjAF93SkSI"
      },
      "execution_count": null,
      "outputs": []
    },
    {
      "cell_type": "markdown",
      "source": [
        "Revisar un campo"
      ],
      "metadata": {
        "id": "9anwCxklSqeO"
      }
    },
    {
      "cell_type": "code",
      "source": [
        "df1['Headline']"
      ],
      "metadata": {
        "id": "Quo6phm3SqE7"
      },
      "execution_count": null,
      "outputs": []
    },
    {
      "cell_type": "markdown",
      "source": [
        "Revisar un registro de un campo determinado"
      ],
      "metadata": {
        "id": "f3atIheqS0s1"
      }
    },
    {
      "cell_type": "code",
      "source": [
        "df1['Headline'][0]"
      ],
      "metadata": {
        "id": "TJGq8zANTR6C"
      },
      "execution_count": null,
      "outputs": []
    },
    {
      "cell_type": "markdown",
      "source": [
        "Contemos el numero de Fake News"
      ],
      "metadata": {
        "id": "17josmM0ThGD"
      }
    },
    {
      "cell_type": "code",
      "source": [
        "cFake = 0 \n",
        "cTrue = 0\n",
        "for o in df1['Category']:\n",
        "  if o == 'True':\n",
        "    cTrue+=1\n",
        "  elif o == 'Fake':\n",
        "    cFake+=1\n",
        "print(f'Fake: {cFake}')\n",
        "print(f'True: {cTrue}')\n"
      ],
      "metadata": {
        "id": "L94o4qR3OqVD"
      },
      "execution_count": null,
      "outputs": []
    },
    {
      "cell_type": "markdown",
      "source": [
        "# Preparacion del dataset\n"
      ],
      "metadata": {
        "id": "haulmfNPL7Rh"
      }
    },
    {
      "cell_type": "markdown",
      "source": [
        "## Eliminar campos que no aporten"
      ],
      "metadata": {
        "id": "k4jQQaP7MjsR"
      }
    },
    {
      "cell_type": "code",
      "source": [
        "del df1['Id']"
      ],
      "metadata": {
        "id": "Np5mYhwQL64b"
      },
      "execution_count": null,
      "outputs": []
    },
    {
      "cell_type": "code",
      "source": [
        "del df1['Topic']"
      ],
      "metadata": {
        "id": "kVaiYFAEMTtb"
      },
      "execution_count": null,
      "outputs": []
    },
    {
      "cell_type": "code",
      "source": [
        "del df1['Source']"
      ],
      "metadata": {
        "id": "mXcvtv49MXJZ"
      },
      "execution_count": null,
      "outputs": []
    },
    {
      "cell_type": "code",
      "source": [
        "del df1['Link']"
      ],
      "metadata": {
        "id": "I1u4YrEpMbNZ"
      },
      "execution_count": null,
      "outputs": []
    },
    {
      "cell_type": "code",
      "source": [
        "df1"
      ],
      "metadata": {
        "id": "9JpiFXpjMPIr"
      },
      "execution_count": null,
      "outputs": []
    },
    {
      "cell_type": "code",
      "source": [
        "df1 = df1.dropna()\n",
        "df1"
      ],
      "metadata": {
        "id": "Uad4EDvBOLDT"
      },
      "execution_count": null,
      "outputs": []
    },
    {
      "cell_type": "code",
      "source": [
        "df1['Headline'][0]"
      ],
      "metadata": {
        "id": "Tx7yOE-RQ5TX"
      },
      "execution_count": null,
      "outputs": []
    },
    {
      "cell_type": "code",
      "source": [
        "df1['Text'][0]"
      ],
      "metadata": {
        "id": "0Z7H5JwORDfN"
      },
      "execution_count": null,
      "outputs": []
    },
    {
      "cell_type": "markdown",
      "source": [
        "## Quitar Urls\n"
      ],
      "metadata": {
        "id": "ZlC9Yly1VS18"
      }
    },
    {
      "cell_type": "markdown",
      "source": [
        "Funcion que permite a traves de una expresion regular detectar y quitar las urls"
      ],
      "metadata": {
        "id": "eyxoLBYEUAyr"
      }
    },
    {
      "cell_type": "code",
      "source": [
        "import re\n",
        "def quitarURL(df:pd.DataFrame,campo:str):\n",
        "  for i in range(0,len(df)):\n",
        "    df[campo][i] = re.sub(r'\\w+:\\/{2}[\\d\\w-]+(\\.[\\d\\w-]+)*(?:(?:\\/[^\\s/]*))*',' ',df[campo][i])\n",
        "    return df"
      ],
      "metadata": {
        "id": "mbc02jFZUFTV"
      },
      "execution_count": null,
      "outputs": []
    },
    {
      "cell_type": "code",
      "source": [
        "df = df1.copy()\n",
        "%time df = quitarURL(df,'Headline')\n",
        "df"
      ],
      "metadata": {
        "id": "2EVTFaT0UKIn"
      },
      "execution_count": null,
      "outputs": []
    },
    {
      "cell_type": "code",
      "source": [
        "%time df = quitarURL(df,'Headline')\n",
        "df"
      ],
      "metadata": {
        "id": "L9fyl4igVJZQ"
      },
      "execution_count": null,
      "outputs": []
    },
    {
      "cell_type": "markdown",
      "source": [
        "## Stem, Lower y Stopwords"
      ],
      "metadata": {
        "id": "-fM_-06NVtq9"
      }
    },
    {
      "cell_type": "code",
      "source": [
        "import nltk\n",
        "import re\n",
        "from nltk.corpus import stopwords\n",
        "from nltk.stem.porter import PorterStemmer\n",
        "nltk.download('stopwords')\n",
        "ps = PorterStemmer()\n",
        "def stemming(df:pd.DataFrame,campo:str):\n",
        "  corpus = []\n",
        "  replacements = (\n",
        "        (\"á\", \"a\"),\n",
        "        (\"é\", \"e\"),\n",
        "        (\"í\", \"i\"),\n",
        "        (\"ó\", \"o\"),\n",
        "        (\"ú\", \"u\"),\n",
        "    )\n",
        "  for i in range(0,len(df)):\n",
        "    for a, b in replacements:\n",
        "        df[campo][i] = df[campo][i].replace(a, b).replace(a.upper(), b.upper())\n",
        "    review = re.sub('[^a-zA-Z]', ' ', df[campo][i]) #Deja solo texto\n",
        "    review = review.lower() #Convierte a minusculas\n",
        "    review = review.split() #Separa cada palabra\n",
        "    review = [ps.stem(word) for word in review if not word in stopwords.words('spanish')] #Proceso de stopword + stem\n",
        "    review = ' '.join(review) #Une nuevamente cada palabra\n",
        "    corpus.append(review)\n",
        "    \n",
        "  return corpus"
      ],
      "metadata": {
        "id": "J_VY9EjpVz3g"
      },
      "execution_count": null,
      "outputs": []
    },
    {
      "cell_type": "code",
      "source": [
        "df['Headline'][0]"
      ],
      "metadata": {
        "id": "hJPBvd9oYgB0"
      },
      "execution_count": null,
      "outputs": []
    },
    {
      "cell_type": "code",
      "source": [
        "corpus = stemming(df,'Headline')\n",
        "corpus"
      ],
      "metadata": {
        "id": "lPQ4DEK9Yrvz"
      },
      "execution_count": null,
      "outputs": []
    },
    {
      "cell_type": "code",
      "source": [
        "df1['Headline'][0]"
      ],
      "metadata": {
        "id": "1PlGH3ntZGA8"
      },
      "execution_count": null,
      "outputs": []
    },
    {
      "cell_type": "code",
      "source": [
        "corpus[0]"
      ],
      "metadata": {
        "id": "G1H-JCC3ZM0A"
      },
      "execution_count": null,
      "outputs": []
    },
    {
      "cell_type": "markdown",
      "source": [
        "# Vectorizacion"
      ],
      "metadata": {
        "id": "ONMQK09aaw69"
      }
    },
    {
      "cell_type": "code",
      "source": [
        "from sklearn.feature_extraction.text import CountVectorizer, TfidfTransformer\n",
        "import nltk\n",
        "import re\n",
        "from nltk.corpus import stopwords\n",
        "nltk.download('stopwords')\n",
        "sw = stopwords.words('spanish')\n",
        "vectorizer = CountVectorizer(stop_words=sw, token_pattern=r'[^\\d\\W]+')\n",
        "freq_matrix = vectorizer.fit_transform(corpus)\n",
        "feature_names = vectorizer.get_feature_names()\n",
        "transformer = TfidfTransformer()\n",
        "tfidf_matrix = transformer.fit_transform(freq_matrix)\n"
      ],
      "metadata": {
        "id": "4v9eAGXwa4sY"
      },
      "execution_count": null,
      "outputs": []
    },
    {
      "cell_type": "code",
      "source": [
        "from scipy.sparse import csr_matrix\n",
        "dff = pd.DataFrame.sparse.from_spmatrix(tfidf_matrix,columns=feature_names)"
      ],
      "metadata": {
        "id": "KWKWqpTqbsp2"
      },
      "execution_count": null,
      "outputs": []
    },
    {
      "cell_type": "code",
      "source": [
        "dff"
      ],
      "metadata": {
        "id": "9gSMz_HHb2xq"
      },
      "execution_count": null,
      "outputs": []
    },
    {
      "cell_type": "markdown",
      "source": [
        "# Conjuntos de datos"
      ],
      "metadata": {
        "id": "5h4Fwv3VcFQr"
      }
    },
    {
      "cell_type": "code",
      "source": [
        "y = df['Category']\n",
        "y"
      ],
      "metadata": {
        "id": "djbLozE-c_sx"
      },
      "execution_count": null,
      "outputs": []
    },
    {
      "cell_type": "markdown",
      "source": [
        "Dividimos el dataframe en un 70% para entrenamiento y 30% para lo que sera validacion y prueba"
      ],
      "metadata": {
        "id": "EyRvOZ2FdizH"
      }
    },
    {
      "cell_type": "code",
      "source": [
        "from sklearn.model_selection import train_test_split\n",
        "%time X_train, X_test, y_train, y_test = train_test_split(dff, y, test_size=0.3, random_state=5, stratify=y)"
      ],
      "metadata": {
        "id": "mk1hpc1EcNMq"
      },
      "execution_count": null,
      "outputs": []
    },
    {
      "cell_type": "markdown",
      "source": [
        "Dividimos nuevamente el dataframe en un 70% para prueba y 30% para validacion"
      ],
      "metadata": {
        "id": "fXnYEZ1Jd1OX"
      }
    },
    {
      "cell_type": "code",
      "source": [
        "from sklearn.model_selection import train_test_split\n",
        "%time X_val, X_test, y_val, y_test = train_test_split(X_test, y_test,test_size=0.3, random_state=5, stratify=y_test)"
      ],
      "metadata": {
        "id": "4CeRmpmscUX1"
      },
      "execution_count": null,
      "outputs": []
    },
    {
      "cell_type": "markdown",
      "source": [
        "Reiniciamos los indices"
      ],
      "metadata": {
        "id": "BUdCkcQ4esPO"
      }
    },
    {
      "cell_type": "code",
      "source": [
        "def reiniciarIndiceDF(df):\n",
        "  df.reset_index(inplace=True)\n",
        "  df=df.drop('index',axis=1)\n",
        "  return df"
      ],
      "metadata": {
        "id": "0APUbNB9ekz3"
      },
      "execution_count": null,
      "outputs": []
    },
    {
      "cell_type": "code",
      "source": [
        "def reiniciarIndiceSerie(serie):\n",
        "  serie = serie.reset_index()\n",
        "  del serie['index']\n",
        "  return serie"
      ],
      "metadata": {
        "id": "-JxqsLB4gQh5"
      },
      "execution_count": null,
      "outputs": []
    },
    {
      "cell_type": "code",
      "source": [
        "X_train = reiniciarIndiceDF(X_train)\n",
        "X_test = reiniciarIndiceDF(X_test)\n",
        "X_val = reiniciarIndiceDF(X_val)"
      ],
      "metadata": {
        "id": "yv9DIIcoezCi"
      },
      "execution_count": null,
      "outputs": []
    },
    {
      "cell_type": "code",
      "source": [
        "y_train = reiniciarIndiceSerie(y_train)\n",
        "y_test = reiniciarIndiceSerie(y_test)\n",
        "y_val = reiniciarIndiceSerie(y_val)\n"
      ],
      "metadata": {
        "id": "xAV-MBdvgYRS"
      },
      "execution_count": null,
      "outputs": []
    },
    {
      "cell_type": "code",
      "source": [
        "def toNumber(df):\n",
        "  df = df.replace(to_replace='Fake',value=0)\n",
        "  df = df.replace(to_replace='True',value=1)\n",
        "  return df"
      ],
      "metadata": {
        "id": "KAdQnwHrvGX_"
      },
      "execution_count": null,
      "outputs": []
    },
    {
      "cell_type": "code",
      "source": [
        "y_train = toNumber(y_train)\n",
        "y_test = toNumber(y_test)\n",
        "y_val = toNumber(y_val)\n"
      ],
      "metadata": {
        "id": "-cZ6F9bTnkiH"
      },
      "execution_count": null,
      "outputs": []
    },
    {
      "cell_type": "code",
      "source": [
        "from tensorflow.keras.utils import to_categorical\n",
        "y_train = to_categorical(y_train, num_classes=2)\n",
        "y_test = to_categorical(y_test, num_classes=2)\n",
        "y_val = to_categorical(y_val, num_classes=2)\n"
      ],
      "metadata": {
        "id": "AezQQnWMjAHk"
      },
      "execution_count": null,
      "outputs": []
    },
    {
      "cell_type": "markdown",
      "source": [
        "# Modelo"
      ],
      "metadata": {
        "id": "JfoJyJsqikxU"
      }
    },
    {
      "cell_type": "markdown",
      "source": [
        "## Crear Modelo"
      ],
      "metadata": {
        "id": "goz1vkAf24Yl"
      }
    },
    {
      "cell_type": "code",
      "source": [
        "from keras.models import Sequential\n",
        "from keras.layers import Dense\n",
        "from keras import backend as K \n",
        "def crearModelo():\n",
        "  K.clear_session( )\n",
        "  model = Sequential()\n",
        "  model.add(Dense(15,  activation='relu'))\n",
        "  model.add(Dense(2,  activation='softmax'))\n",
        "  model.compile(loss='categorical_crossentropy', optimizer='adam', metrics=['categorical_accuracy'])\n",
        "  return model"
      ],
      "metadata": {
        "id": "WacVt571iura"
      },
      "execution_count": null,
      "outputs": []
    },
    {
      "cell_type": "code",
      "source": [
        "X_train.shape"
      ],
      "metadata": {
        "id": "Jzf94NTKmXFy"
      },
      "execution_count": null,
      "outputs": []
    },
    {
      "cell_type": "code",
      "source": [
        "y_train.shape"
      ],
      "metadata": {
        "id": "g-Lqrh8xmahk"
      },
      "execution_count": null,
      "outputs": []
    },
    {
      "cell_type": "markdown",
      "source": [
        "## Entrenar Modelo"
      ],
      "metadata": {
        "id": "gCS_05sz28w1"
      }
    },
    {
      "cell_type": "code",
      "source": [
        "import numpy as np\n",
        "m = crearModelo()\n",
        "m.fit(np.asarray(X_train),np.asarray(y_train),validation_data=(np.asarray(X_val),np.asarray(y_val)),epochs=10)\n"
      ],
      "metadata": {
        "id": "vw9NA8jll90g"
      },
      "execution_count": null,
      "outputs": []
    },
    {
      "cell_type": "markdown",
      "source": [
        "## Predecir"
      ],
      "metadata": {
        "id": "4HSLs2oV3B6J"
      }
    },
    {
      "cell_type": "code",
      "source": [
        "import torch\n",
        "with torch.no_grad():\n",
        "  y = m.predict(np.asarray(X_test)).round()"
      ],
      "metadata": {
        "id": "IiWxuhrAwdqm"
      },
      "execution_count": null,
      "outputs": []
    },
    {
      "cell_type": "code",
      "source": [
        "y"
      ],
      "metadata": {
        "id": "HXlWgj9TxHY7"
      },
      "execution_count": null,
      "outputs": []
    },
    {
      "cell_type": "code",
      "source": [
        "from sklearn.metrics import accuracy_score, precision_score,f1_score,recall_score, multilabel_confusion_matrix, ConfusionMatrixDisplay, confusion_matrix\n",
        "confusion = multilabel_confusion_matrix(y_test,y)\n",
        "print(f\"acc: {accuracy_score(y_test,y)}\")\n",
        "print(f\"precision: {precision_score(y_test,y,average='macro')}\")\n",
        "print(f\"recall: {recall_score(y_test,y,average='macro')}\")\n",
        "print(f\"f1: {f1_score(y_test,y,average='micro')}\")\n",
        "confusion_display = ConfusionMatrixDisplay(confusion[0],display_labels=['True','Fake']).plot(values_format='d')\n"
      ],
      "metadata": {
        "id": "axdX9_-0xQk7"
      },
      "execution_count": null,
      "outputs": []
    },
    {
      "cell_type": "code",
      "source": [
        "fake = 0 #0\n",
        "true = 0 #1\n",
        "for x in range(len(y)):\n",
        "  if y[x][0]==1 and y_test[x][0]==1:\n",
        "    fake+=1\n",
        "  elif y[x][1]==1 and y_test[x][1]==1:\n",
        "    true+=1\n",
        "    "
      ],
      "metadata": {
        "id": "A39aqRbEy0b5"
      },
      "execution_count": null,
      "outputs": []
    },
    {
      "cell_type": "code",
      "source": [
        "len(y)"
      ],
      "metadata": {
        "id": "Y7vPOs4M0K3H"
      },
      "execution_count": null,
      "outputs": []
    },
    {
      "cell_type": "code",
      "source": [
        "fake"
      ],
      "metadata": {
        "id": "OXvtd2xOz9Sb"
      },
      "execution_count": null,
      "outputs": []
    },
    {
      "cell_type": "code",
      "source": [
        "true"
      ],
      "metadata": {
        "id": "v_Xfw1rTz_Q1"
      },
      "execution_count": null,
      "outputs": []
    },
    {
      "cell_type": "code",
      "source": [
        "y_test"
      ],
      "metadata": {
        "id": "YpWaxLSJy4On"
      },
      "execution_count": null,
      "outputs": []
    }
  ]
}